{
 "cells": [
  {
   "cell_type": "code",
   "execution_count": 1,
   "id": "4ddc0f1d",
   "metadata": {},
   "outputs": [],
   "source": [
    "from qiskit import *\n",
    "\n",
    "%matplotlib  inline"
   ]
  },
  {
   "cell_type": "code",
   "execution_count": 2,
   "id": "56b47f3f",
   "metadata": {},
   "outputs": [],
   "source": [
    "circuit = QuantumCircuit(2 , 1)"
   ]
  },
  {
   "cell_type": "code",
   "execution_count": 3,
   "id": "28ce638a",
   "metadata": {},
   "outputs": [],
   "source": [
    "# circuit.draw()"
   ]
  },
  {
   "cell_type": "code",
   "execution_count": 4,
   "id": "1d4c005a",
   "metadata": {},
   "outputs": [
    {
     "data": {
      "image/png": "[encoded data removed]",
      "text/plain": [
       "<Figure size 116.552x204.68 with 1 Axes>"
      ]
     },
     "execution_count": 4,
     "metadata": {},
     "output_type": "execute_result"
    }
   ],
   "source": [
    "circuit.draw(output='mpl')"
   ]
  },
  {
   "cell_type": "code",
   "execution_count": null,
   "id": "0e5ab14a",
   "metadata": {},
   "outputs": [],
   "source": [
    "# help ( circuit.x )"
   ]
  },
  {
   "cell_type": "code",
   "execution_count": null,
   "id": "f2a26919",
   "metadata": {},
   "outputs": [],
   "source": []
  },
  {
   "cell_type": "code",
   "execution_count": 5,
   "id": "436bfdee",
   "metadata": {},
   "outputs": [
    {
     "data": {
      "text/plain": [
       "<qiskit.circuit.instructionset.InstructionSet at 0x290cd61ee80>"
      ]
     },
     "execution_count": 5,
     "metadata": {},
     "output_type": "execute_result"
    }
   ],
   "source": [
    "circuit.x(0)"
   ]
  },
  {
   "cell_type": "code",
   "execution_count": null,
   "id": "3036718f",
   "metadata": {},
   "outputs": [],
   "source": []
  },
  {
   "cell_type": "code",
   "execution_count": null,
   "id": "01b2465c",
   "metadata": {},
   "outputs": [],
   "source": [
    "circuit.draw(output='mpl')"
   ]
  },
  {
   "cell_type": "code",
   "execution_count": 6,
   "id": "5826f2dc",
   "metadata": {},
   "outputs": [
    {
     "data": {
      "text/plain": [
       "<qiskit.circuit.instructionset.InstructionSet at 0x290cd7082c0>"
      ]
     },
     "execution_count": 6,
     "metadata": {},
     "output_type": "execute_result"
    }
   ],
   "source": [
    "circuit.x(0)"
   ]
  },
  {
   "cell_type": "code",
   "execution_count": null,
   "id": "646856f8",
   "metadata": {},
   "outputs": [],
   "source": [
    "circuit.draw(output='mpl')"
   ]
  },
  {
   "cell_type": "code",
   "execution_count": null,
   "id": "28843980",
   "metadata": {},
   "outputs": [],
   "source": []
  },
  {
   "cell_type": "code",
   "execution_count": 7,
   "id": "dc90c4e6",
   "metadata": {},
   "outputs": [
    {
     "data": {
      "text/plain": [
       "<qiskit.circuit.instructionset.InstructionSet at 0x290cd704240>"
      ]
     },
     "execution_count": 7,
     "metadata": {},
     "output_type": "execute_result"
    }
   ],
   "source": [
    "circuit.measure( [0] , [0])"
   ]
  },
  {
   "cell_type": "code",
   "execution_count": 8,
   "id": "4b7b0ef6",
   "metadata": {},
   "outputs": [
    {
     "data": {
      "image/png": "[encoded data removed]",
      "text/plain": [
       "<Figure size 267.052x204.68 with 1 Axes>"
      ]
     },
     "execution_count": 8,
     "metadata": {},
     "output_type": "execute_result"
    }
   ],
   "source": [
    "circuit.draw(output='mpl')"
   ]
  },
  {
   "cell_type": "code",
   "execution_count": null,
   "id": "707d1ba2",
   "metadata": {},
   "outputs": [],
   "source": [
    "# Aer : for simulator\n",
    "\n",
    "Aer.aer.backends()"
   ]
  },
  {
   "cell_type": "code",
   "execution_count": null,
   "id": "88f42348",
   "metadata": {},
   "outputs": [],
   "source": [
    "simulator = Aer.aer.get_backend('qasm_simulator')"
   ]
  },
  {
   "cell_type": "code",
   "execution_count": null,
   "id": "8a306aa5",
   "metadata": {},
   "outputs": [],
   "source": [
    "# shift + tab : help\n",
    "job_result = execute(\n",
    "                     experiments=circuit,  \n",
    "                     backend=simulator, \n",
    "                     shots=100 \n",
    "                    ).result()"
   ]
  },
  {
   "cell_type": "code",
   "execution_count": null,
   "id": "f5a0d39d",
   "metadata": {},
   "outputs": [],
   "source": [
    "job_result"
   ]
  },
  {
   "cell_type": "code",
   "execution_count": null,
   "id": "15c001bb",
   "metadata": {},
   "outputs": [],
   "source": []
  },
  {
   "cell_type": "code",
   "execution_count": null,
   "id": "a970bf88",
   "metadata": {},
   "outputs": [],
   "source": []
  },
  {
   "cell_type": "code",
   "execution_count": 9,
   "id": "6f9827e9",
   "metadata": {},
   "outputs": [],
   "source": [
    "from  qiskit.visualization  import plot_histogram"
   ]
  },
  {
   "cell_type": "code",
   "execution_count": null,
   "id": "d408d7ba",
   "metadata": {},
   "outputs": [],
   "source": [
    "plot_histogram(     job_result.get_counts()    )"
   ]
  },
  {
   "cell_type": "code",
   "execution_count": null,
   "id": "ca99a1cb",
   "metadata": {},
   "outputs": [],
   "source": []
  },
  {
   "cell_type": "code",
   "execution_count": 16,
   "id": "4c9ef5a7",
   "metadata": {},
   "outputs": [
    {
     "data": {
      "text/plain": [
       "<qiskit.IBMQWrapper at 0x290cc419dc0>"
      ]
     },
     "execution_count": 16,
     "metadata": {},
     "output_type": "execute_result"
    }
   ],
   "source": [
    "IBMQ"
   ]
  },
  {
   "cell_type": "code",
   "execution_count": null,
   "id": "8ff0c494",
   "metadata": {},
   "outputs": [],
   "source": [
    "circuit.draw(output='mpl')"
   ]
  },
  {
   "cell_type": "code",
   "execution_count": 11,
   "id": "cbfe67c8",
   "metadata": {},
   "outputs": [
    {
     "data": {
      "text/plain": [
       "<AccountProvider for IBMQ(hub='ibm-q', group='open', project='main')>"
      ]
     },
     "execution_count": 11,
     "metadata": {},
     "output_type": "execute_result"
    }
   ],
   "source": [
    "IBMQ.ibmq.load_account()"
   ]
  },
  {
   "cell_type": "code",
   "execution_count": 12,
   "id": "851a2d1f",
   "metadata": {},
   "outputs": [],
   "source": [
    "provider = IBMQ.ibmq.get_provider(hub='ibm-q')"
   ]
  },
  {
   "cell_type": "code",
   "execution_count": 13,
   "id": "4ed17ee3",
   "metadata": {},
   "outputs": [],
   "source": [
    "quantum_computer = provider.get_backend('ibmq_bogota')"
   ]
  },
  {
   "cell_type": "code",
   "execution_count": 14,
   "id": "33a61232",
   "metadata": {},
   "outputs": [
    {
     "data": {
      "application/vnd.jupyter.widget-view+json": {
       "model_id": "6017601f50b74b829a489dd82df15514",
       "version_major": 2,
       "version_minor": 0
      },
      "text/plain": [
       "Accordion(children=(VBox(layout=Layout(max_width='710px', min_width='710px')),), layout=Layout(max_height='500…"
      ]
     },
     "metadata": {},
     "output_type": "display_data"
    },
    {
     "data": {
      "application/javascript": [
       "\n",
       "        const isLab = window['Jupyter'] === undefined;\n",
       "        const notebook = document.querySelector( isLab ? 'div.jp-Notebook' : '#site');\n",
       "        const jobWidget = document.querySelector('div.job_widget');\n",
       "        notebook.prepend(jobWidget);\n",
       "        jobWidget.style.zIndex = '999';\n",
       "        jobWidget.style.position = isLab ? 'sticky' : 'fixed';\n",
       "        jobWidget.style.boxShadow = '5px 5px 5px -3px black';\n",
       "        jobWidget.style.opacity = '0.95';\n",
       "        if (isLab) {\n",
       "            jobWidget.style.top = '0';\n",
       "            jobWidget.style.left = '0';\n",
       "        }\n",
       "        "
      ],
      "text/plain": [
       "<IPython.core.display.Javascript object>"
      ]
     },
     "metadata": {},
     "output_type": "display_data"
    }
   ],
   "source": [
    "import qiskit.tools.jupyter \n",
    "\n",
    "%qiskit_job_watcher\n",
    "\n",
    "qc_job_result = execute(\n",
    "                     experiments=circuit,  \n",
    "                     backend=quantum_computer, \n",
    "                     shots=1000\n",
    "                    ).result()"
   ]
  },
  {
   "cell_type": "code",
   "execution_count": null,
   "id": "f386d758",
   "metadata": {},
   "outputs": [],
   "source": []
  },
  {
   "cell_type": "code",
   "execution_count": 15,
   "id": "b87698ef",
   "metadata": {},
   "outputs": [
    {
     "name": "stdout",
     "output_type": "stream",
     "text": [
      "hi\n"
     ]
    }
   ],
   "source": [
    "print(\"hi\")"
   ]
  },
  {
   "cell_type": "code",
   "execution_count": null,
   "id": "562646be",
   "metadata": {},
   "outputs": [],
   "source": [
    "qc_job_result"
   ]
  },
  {
   "cell_type": "code",
   "execution_count": null,
   "id": "d4ed5e76",
   "metadata": {},
   "outputs": [],
   "source": [
    "qc_job_result.get_counts()"
   ]
  },
  {
   "cell_type": "code",
   "execution_count": null,
   "id": "1ff7d0e3",
   "metadata": {},
   "outputs": [],
   "source": [
    "plot_histogram(  qc_job_result.get_counts()   )"
   ]
  },
  {
   "cell_type": "code",
   "execution_count": null,
   "id": "9fa74495",
   "metadata": {},
   "outputs": [],
   "source": []
  }
 ],
 "metadata": {
  "kernelspec": {
   "display_name": "Python 3",
   "language": "python",
   "name": "python3"
  },
  "language_info": {
   "codemirror_mode": {
    "name": "ipython",
    "version": 3
   },
   "file_extension": ".py",
   "mimetype": "text/x-python",
   "name": "python",
   "nbconvert_exporter": "python",
   "pygments_lexer": "ipython3",
   "version": "3.8.8"
  }
 },
 "nbformat": 4,
 "nbformat_minor": 5
}
