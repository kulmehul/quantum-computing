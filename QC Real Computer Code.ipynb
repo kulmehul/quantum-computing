{
 "cells": [
  {
   "cell_type": "code",
   "execution_count": 1,
   "id": "a753b067",
   "metadata": {},
   "outputs": [],
   "source": [
    "from qiskit import *"
   ]
  },
  {
   "cell_type": "code",
   "execution_count": 2,
   "id": "13f044d0",
   "metadata": {},
   "outputs": [
    {
     "name": "stderr",
     "output_type": "stream",
     "text": [
      "configrc.store_credentials:WARNING:2022-04-23 11:15:24,925: Credentials already present. Set overwrite=True to overwrite.\n"
     ]
    }
   ],
   "source": [
    "# IBMQ.ibmq.save_account(   open('qc.key').read()  )"
   ]
  },
  {
   "cell_type": "code",
   "execution_count": 4,
   "id": "6bf0c9ea",
   "metadata": {},
   "outputs": [
    {
     "data": {
      "text/plain": [
       "[]"
      ]
     },
     "execution_count": 4,
     "metadata": {},
     "output_type": "execute_result"
    }
   ],
   "source": [
    "IBMQ.ibmq.providers()"
   ]
  },
  {
   "cell_type": "code",
   "execution_count": 5,
   "id": "f97126cc",
   "metadata": {},
   "outputs": [
    {
     "data": {
      "text/plain": [
       "<AccountProvider for IBMQ(hub='ibm-q', group='open', project='main')>"
      ]
     },
     "execution_count": 5,
     "metadata": {},
     "output_type": "execute_result"
    }
   ],
   "source": [
    "# login\n",
    "IBMQ.ibmq.load_account()"
   ]
  },
  {
   "cell_type": "code",
   "execution_count": 6,
   "id": "17327c74",
   "metadata": {},
   "outputs": [
    {
     "data": {
      "text/plain": [
       "[<AccountProvider for IBMQ(hub='ibm-q', group='open', project='main')>]"
      ]
     },
     "execution_count": 6,
     "metadata": {},
     "output_type": "execute_result"
    }
   ],
   "source": [
    "IBMQ.ibmq.providers()"
   ]
  },
  {
   "cell_type": "code",
   "execution_count": 7,
   "id": "ab60bce7",
   "metadata": {},
   "outputs": [],
   "source": [
    "provider = IBMQ.ibmq.get_provider('ibm-q')"
   ]
  },
  {
   "cell_type": "code",
   "execution_count": 18,
   "id": "168136d2",
   "metadata": {},
   "outputs": [
    {
     "data": {
      "text/plain": [
       "<bound method IBMQBackend.properties of <IBMQBackend('ibmq_santiago') from IBMQ(hub='ibm-q', group='open', project='main')>>"
      ]
     },
     "execution_count": 18,
     "metadata": {},
     "output_type": "execute_result"
    }
   ],
   "source": [
    "provider.backends()[2].properties"
   ]
  },
  {
   "cell_type": "code",
   "execution_count": null,
   "id": "a3d90c82",
   "metadata": {},
   "outputs": [],
   "source": []
  }
 ],
 "metadata": {
  "kernelspec": {
   "display_name": "Python 3",
   "language": "python",
   "name": "python3"
  },
  "language_info": {
   "codemirror_mode": {
    "name": "ipython",
    "version": 3
   },
   "file_extension": ".py",
   "mimetype": "text/x-python",
   "name": "python",
   "nbconvert_exporter": "python",
   "pygments_lexer": "ipython3",
   "version": "3.8.8"
  }
 },
 "nbformat": 4,
 "nbformat_minor": 5
}
